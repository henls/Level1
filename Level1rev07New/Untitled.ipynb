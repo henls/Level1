{
 "cells": [
  {
   "cell_type": "code",
   "execution_count": 1,
   "metadata": {},
   "outputs": [
    {
     "name": "stdout",
     "output_type": "stream",
     "text": [
      "0.38488101959228516\n",
      "0.45159316062927246\n",
      "0.4772653579711914\n",
      "0.5630438327789307\n",
      "0.21398448944091797\n",
      "0.2285761833190918\n"
     ]
    }
   ],
   "source": [
    "import time, os\n",
    "import cupy as cp\n",
    "import numpy as np\n",
    "import multiprocessing as mp\n",
    "from multiprocessing import Process, Queue, Pool\n",
    "def a(m,n,DeviceNumber):\n",
    "    cp.cuda.Device(DeviceNumber).use()\n",
    "    ma = np.arange(m*n).reshape(m,n)\n",
    "    a = cp.array(ma)\n",
    "    st = time.time()\n",
    "    cp.fft.fft(a)\n",
    "    print(time.time()-st)\n",
    "def b():\n",
    "    for i in range(3):\n",
    "        a(2000,3000,i)\n",
    "def c():\n",
    "    a1 = mp.Process(target=a,args=(2000,3000,0))\n",
    "    a1.start()\n",
    "    #a1.join()\n",
    "    a2 = mp.Process(target=a,args=(2000,3000,1))\n",
    "    a2.start()\n",
    "    #a2.join()\n",
    "    a3 = mp.Process(target=a,args=(2000,3000,2))\n",
    "    a3.start()\n",
    "    #a3.join()\n",
    "    #pool = mp.Pool(mp.cpu_count())\n",
    "    #for i in range(3):\n",
    "    #    pool.apply_async(a, args=(2000,3000,2 ))\n",
    "    #pool.close()\n",
    "    #pool.join()\n",
    "    \n",
    "c()\n",
    "b()"
   ]
  },
  {
   "cell_type": "code",
   "execution_count": 1,
   "metadata": {},
   "outputs": [
    {
     "name": "stdout",
     "output_type": "stream",
     "text": [
      "48993\n",
      "process is complete\n",
      "\n",
      "process is complete\n",
      "3\n",
      "process is complete\n",
      "3\n",
      "process is complete\n",
      "43\n",
      "process is complete\n",
      "45\n",
      "process is complete\n",
      "3\n",
      "process is complete\n",
      "5\n",
      "process is complete\n",
      "6\n"
     ]
    }
   ],
   "source": [
    "import multiprocessing\n",
    "import time\n",
    "\n",
    "\n",
    "def get_html(n):\n",
    "    time.sleep(n)\n",
    "    print('process is complete')\n",
    "    return n\n",
    "\n",
    "\n",
    "if __name__ == '__main__':\n",
    "    process1 = multiprocessing.Process(target=get_html, args=(2, ))\n",
    "\n",
    "    process1.start()\n",
    "    print(process1.pid)  # 获取多进程的pid   在start之后才会有进程pid\n",
    "    process1.join()\n",
    "    print('')\n",
    "\n",
    "    # 使用进程池\n",
    "    pool = multiprocessing.Pool(multiprocessing.cpu_count())   # multiprocessing.cpu_count获取cpu数量\n",
    "    result = pool.apply_async(get_html, args=(3, ))  # 异步执行一个任务\n",
    "\n",
    "    # 等待所有任务完成\n",
    "    pool.close()  # join之前必须先close  否则会报错的\n",
    "    pool.join()\n",
    "    print(result.get())  # 获取执行函数返回的结果\n",
    "\n",
    "    pool = multiprocessing.Pool(multiprocessing.cpu_count())  # multiprocessing.cpu_count获取cpu数量\n",
    "\n",
    "    # imap方法\n",
    "    for result in pool.imap(get_html, [3, 43, 45]):   # 会根据可迭代对象的参数 打印执行结果\n",
    "        print(result)\n",
    "\n",
    "    for result in pool.imap_unordered(get_html, [3, 5, 6]):  # 会根据谁先执行完成 打印执行结果\n",
    "        print(result)"
   ]
  },
  {
   "cell_type": "code",
   "execution_count": 2,
   "metadata": {},
   "outputs": [
    {
     "data": {
      "text/plain": [
       "2111040"
      ]
     },
     "execution_count": 2,
     "metadata": {},
     "output_type": "execute_result"
    }
   ],
   "source": [
    "import os\n",
    "os.path.getsize(r'/home/user/data/2020/20200509/HA/Dark/001812/CENT/001812/H_000000.fits')"
   ]
  },
  {
   "cell_type": "code",
   "execution_count": null,
   "metadata": {},
   "outputs": [],
   "source": []
  }
 ],
 "metadata": {
  "kernelspec": {
   "display_name": "Python 3",
   "language": "python",
   "name": "python3"
  },
  "language_info": {
   "codemirror_mode": {
    "name": "ipython",
    "version": 3
   },
   "file_extension": ".py",
   "mimetype": "text/x-python",
   "name": "python",
   "nbconvert_exporter": "python",
   "pygments_lexer": "ipython3",
   "version": "3.7.4"
  }
 },
 "nbformat": 4,
 "nbformat_minor": 2
}

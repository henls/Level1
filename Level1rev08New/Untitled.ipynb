{
 "cells": [
  {
   "cell_type": "code",
   "execution_count": 1,
   "metadata": {},
   "outputs": [
    {
     "name": "stdout",
     "output_type": "stream",
     "text": [
      "0.38488101959228516\n",
      "0.45159316062927246\n",
      "0.4772653579711914\n",
      "0.5630438327789307\n",
      "0.21398448944091797\n",
      "0.2285761833190918\n"
     ]
    }
   ],
   "source": [
    "import time, os\n",
    "import cupy as cp\n",
    "import numpy as np\n",
    "import multiprocessing as mp\n",
    "from multiprocessing import Process, Queue, Pool\n",
    "def a(m,n,DeviceNumber):\n",
    "    cp.cuda.Device(DeviceNumber).use()\n",
    "    ma = np.arange(m*n).reshape(m,n)\n",
    "    a = cp.array(ma)\n",
    "    st = time.time()\n",
    "    cp.fft.fft(a)\n",
    "    print(time.time()-st)\n",
    "def b():\n",
    "    for i in range(3):\n",
    "        a(2000,3000,i)\n",
    "def c():\n",
    "    a1 = mp.Process(target=a,args=(2000,3000,0))\n",
    "    a1.start()\n",
    "    #a1.join()\n",
    "    a2 = mp.Process(target=a,args=(2000,3000,1))\n",
    "    a2.start()\n",
    "    #a2.join()\n",
    "    a3 = mp.Process(target=a,args=(2000,3000,2))\n",
    "    a3.start()\n",
    "    #a3.join()\n",
    "    #pool = mp.Pool(mp.cpu_count())\n",
    "    #for i in range(3):\n",
    "    #    pool.apply_async(a, args=(2000,3000,2 ))\n",
    "    #pool.close()\n",
    "    #pool.join()\n",
    "    \n",
    "c()\n",
    "b()"
   ]
  },
  {
   "cell_type": "code",
   "execution_count": 1,
   "metadata": {},
   "outputs": [
    {
     "name": "stdout",
     "output_type": "stream",
     "text": [
      "48993\n",
      "process is complete\n",
      "\n",
      "process is complete\n",
      "3\n",
      "process is complete\n",
      "3\n",
      "process is complete\n",
      "43\n",
      "process is complete\n",
      "45\n",
      "process is complete\n",
      "3\n",
      "process is complete\n",
      "5\n",
      "process is complete\n",
      "6\n"
     ]
    }
   ],
   "source": [
    "import multiprocessing\n",
    "import time\n",
    "\n",
    "\n",
    "def get_html(n):\n",
    "    time.sleep(n)\n",
    "    print('process is complete')\n",
    "    return n\n",
    "\n",
    "\n",
    "if __name__ == '__main__':\n",
    "    process1 = multiprocessing.Process(target=get_html, args=(2, ))\n",
    "\n",
    "    process1.start()\n",
    "    print(process1.pid)  # 获取多进程的pid   在start之后才会有进程pid\n",
    "    process1.join()\n",
    "    print('')\n",
    "\n",
    "    # 使用进程池\n",
    "    pool = multiprocessing.Pool(multiprocessing.cpu_count())   # multiprocessing.cpu_count获取cpu数量\n",
    "    result = pool.apply_async(get_html, args=(3, ))  # 异步执行一个任务\n",
    "\n",
    "    # 等待所有任务完成\n",
    "    pool.close()  # join之前必须先close  否则会报错的\n",
    "    pool.join()\n",
    "    print(result.get())  # 获取执行函数返回的结果\n",
    "\n",
    "    pool = multiprocessing.Pool(multiprocessing.cpu_count())  # multiprocessing.cpu_count获取cpu数量\n",
    "\n",
    "    # imap方法\n",
    "    for result in pool.imap(get_html, [3, 43, 45]):   # 会根据可迭代对象的参数 打印执行结果\n",
    "        print(result)\n",
    "\n",
    "    for result in pool.imap_unordered(get_html, [3, 5, 6]):  # 会根据谁先执行完成 打印执行结果\n",
    "        print(result)"
   ]
  },
  {
   "cell_type": "code",
   "execution_count": 2,
   "metadata": {},
   "outputs": [
    {
     "data": {
      "text/plain": [
       "2111040"
      ]
     },
     "execution_count": 2,
     "metadata": {},
     "output_type": "execute_result"
    }
   ],
   "source": [
    "import os\n",
    "os.path.getsize(r'/home/user/data/2020/20200509/HA/Dark/001812/CENT/001812/H_000000.fits')"
   ]
  },
  {
   "cell_type": "code",
   "execution_count": null,
   "metadata": {},
   "outputs": [],
   "source": []
  },
  {
   "cell_type": "code",
   "execution_count": 38,
   "metadata": {
    "scrolled": true
   },
   "outputs": [],
   "source": [
    "import threading\n",
    "import datetime\n",
    "import time\n",
    "import fcntl\n",
    "import os\n",
    "import multiprocessing\n",
    "class myThread(threading.Thread):\n",
    "\n",
    "\n",
    "    def __init__(self,log_dir, Dir_NewFile_offband):\n",
    "        threading.Thread.__init__(self)\n",
    "        self.Dir_NewFile_offband = Dir_NewFile_offband\n",
    "        self.log_dir = log_dir\n",
    "        #print(self.log_dir)\n",
    "    def run(self):\n",
    "        try:\n",
    "            JsonWrite(self.log_dir,'NewFile',[self.Dir_NewFile_offband])\n",
    "        except Exception as e:\n",
    "            #print(e)\n",
    "            JsonWrite(self.log_dir,'NewFile',[self.Dir_NewFile_offband])\n",
    "            \n",
    "class myProcessing(object):\n",
    "    def run(self,log_dir, Dir_NewFile_offband):\n",
    "        self.Dir_NewFile_offband = Dir_NewFile_offband\n",
    "        self.log_dir = log_dir\n",
    "        try:\n",
    "            JsonWrite(self.log_dir,'NewFile',[self.Dir_NewFile_offband])\n",
    "        except Exception as e:\n",
    "            JsonWrite(self.log_dir,'NewFile',[self.Dir_NewFile_offband])\n",
    "            \n",
    "            \n",
    "            \n",
    "def JsonWrite(dir_log,key,value):\n",
    "    import os\n",
    "    import json\n",
    "    import fcntl\n",
    "    '''负责json日志的追加修改\n",
    "    key:string\n",
    "    value:list\n",
    "    '''\n",
    "    today_time = datetime.datetime.now().strftime('%Y%m%d')\n",
    "    dir_logjson = os.path.join(dir_log,today_time+'.log')\n",
    "    items = {}\n",
    "    with open(dir_logjson,'r') as f:\n",
    "        fcnt\n",
    "        try:\n",
    "            detail = json.load(f)\n",
    "            #print(detail)\n",
    "            items.update(detail)\n",
    "            jsvalue = items[key]\n",
    "            jsvalue = list(set(jsvalue) | set(value))\n",
    "            items.update({key:jsvalue})\n",
    "            #print(jsvalue)\n",
    "            #print(items)\n",
    "        except Exception as e:\n",
    "            #print(e)\n",
    "            items.update({key:list(value)})\n",
    "\n",
    "    f.close()\n",
    "    with open(dir_logjson,'w') as f:\n",
    "        fcntl.flock(f.fileno(),fcntl.LOCK_EX)\n",
    "        f.write(json.dumps(items))\n",
    "    f.close()    \n",
    "            \n",
    "        \n",
    "log_dir = r'/home/wangxinhua/Desktop'\n",
    "aa = '/home/wangxinhua/Desktop/NewFile/20200518Disk_Center010716R080.log'            \n",
    "today_time = datetime.datetime.now().strftime('%Y%m%d')\n",
    "dir_logjson = os.path.join(log_dir,today_time+'.log')\n",
    "mywork = myProcessing()\n",
    "if os.path.exists(dir_logjson) == False:\n",
    "        with open(dir_logjson,'w') as f:\n",
    "            f.write('{}')\n",
    "        f.close()\n",
    "for i in range(10):\n",
    "    #thread = myThread(log_dir,aa+str(i))\n",
    "    #thread.start()    \n",
    "    process = multiprocessing.Process(target=mywork.run,args=(log_dir,aa+str(i)))\n",
    "    process.start()\n",
    "#JsonWrite(log_dir,'NewFile',[aa])"
   ]
  },
  {
   "cell_type": "code",
   "execution_count": 32,
   "metadata": {},
   "outputs": [
    {
     "data": {
      "text/plain": [
       "{}"
      ]
     },
     "execution_count": 32,
     "metadata": {},
     "output_type": "execute_result"
    }
   ],
   "source": [
    "import json\n",
    "json.loads('{}')"
   ]
  },
  {
   "cell_type": "code",
   "execution_count": null,
   "metadata": {},
   "outputs": [],
   "source": [
    "import pyinotify\n",
    "import time\n",
    "def inotify(NewFile):\n",
    "    NewFile = NewFile\n",
    "    handler = EventHandler()\n",
    "    wm = pyinotify.WatchManager()\n",
    "    mask = pyinotify.IN_CREATE\n",
    "    notifier = pyinotify.Notifier(wm,handler)\n",
    "    wm.add_watch(NewFile,mask)#CENT,B050,R050\n",
    "    notifier.loop()\n",
    "\n",
    "class EventHandler(pyinotify.ProcessEvent):\n",
    "\n",
    "    def process_IN_CREATE(self,event):\n",
    "        \n",
    "        path = event.pathname\n",
    "        Dir_NewFile = r'/home/wangxinhua/Desktop/111.txt'\n",
    "        file = open(Dir_NewFile,'a+')\n",
    "        file.writelines(path+'\\n')\n",
    "        file.close\n",
    "inotify(r'/home/wangxinhua/Desktop/inotif/')\n"
   ]
  },
  {
   "cell_type": "code",
   "execution_count": null,
   "metadata": {},
   "outputs": [],
   "source": []
  }
 ],
 "metadata": {
  "kernelspec": {
   "display_name": "Python 3",
   "language": "python",
   "name": "python3"
  },
  "language_info": {
   "codemirror_mode": {
    "name": "ipython",
    "version": 3
   },
   "file_extension": ".py",
   "mimetype": "text/x-python",
   "name": "python",
   "nbconvert_exporter": "python",
   "pygments_lexer": "ipython3",
   "version": "3.7.4"
  }
 },
 "nbformat": 4,
 "nbformat_minor": 2
}
